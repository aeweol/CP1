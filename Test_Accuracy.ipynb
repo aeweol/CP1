{
 "cells": [
  {
   "cell_type": "markdown",
   "metadata": {},
   "source": [
    "### Data Preparation"
   ]
  },
  {
   "cell_type": "code",
   "execution_count": 1,
   "metadata": {},
   "outputs": [],
   "source": [
    "NUM_OF_LABELS = 9\n",
    "BATCH_SIZE = 32"
   ]
  },
  {
   "cell_type": "code",
   "execution_count": 2,
   "metadata": {},
   "outputs": [
    {
     "name": "stderr",
     "output_type": "stream",
     "text": [
      "c:\\Users\\Programming\\anaconda3\\envs\\c_project\\lib\\site-packages\\scipy\\__init__.py:146: UserWarning: A NumPy version >=1.16.5 and <1.23.0 is required for this version of SciPy (detected version 1.23.4\n",
      "  warnings.warn(f\"A NumPy version >={np_minversion} and <{np_maxversion}\"\n"
     ]
    }
   ],
   "source": [
    "import tensorflow as tf\n",
    "from Load_Data import load_image_dataset_from_directory, load_image_batch_size_one\n",
    "\n",
    "# filepaths\n",
    "b_dir = '/datasets/small_datasets/coffee'\n",
    "#b_dir = '/datasets/rock_paper_scissor_original'\n",
    "tr_dir = '/train'\n",
    "val_dir = '/train'\n",
    "ts_dir = '/test'\n",
    "\n",
    "# loading data\n",
    "train_dataset, valid_dataset, test_dataset = load_image_dataset_from_directory(b_dir, tr_dir, val_dir, ts_dir)\n",
    "\n",
    "# loading data/\n",
    "# label_names=['바리스타룰스 쇼콜라모카', '바리스타룰스 에스프레소 라떼', '티오피 마일드',\n",
    "#              '바리스타룰스 모카프레소', '바리스타룰스 카라멜 딥 프레소', '스타벅스 스키니라떼',\n",
    "#              '카페라떼 마일드', '스페셜티카페라떼 마일드', '바리스타룰스 로 슈거 에스프레소 라떼']\n",
    "# training_dataset = load_image_batch_size_one(b_dir, tr_dir, label_names=label_names)\n",
    "# validation_size = int(0.2*len(training_dataset))\n",
    "# train_dataset = training_dataset[:-validation_size]\n",
    "# valid_dataset = training_dataset[-validation_size:]\n",
    "# test_dataset = load_image_batch_size_one(b_dir, ts_dir, label_names=label_names)"
   ]
  },
  {
   "cell_type": "markdown",
   "metadata": {},
   "source": [
    "### Model(VGG19+SPP)"
   ]
  },
  {
   "cell_type": "markdown",
   "metadata": {},
   "source": [
    "* Spatial_Pyramid_Pooling(https://arxiv.org/abs/1406.4729) code is provided by yhenon(https://github.com/yhenon/keras-spp)"
   ]
  },
  {
   "cell_type": "code",
   "execution_count": 3,
   "metadata": {},
   "outputs": [],
   "source": [
    "import os, sys\n",
    "sys.path.append(os.getcwd()+'/sppnet')\n",
    "from SpatialPyramidPooling import SpatialPyramidPooling"
   ]
  },
  {
   "cell_type": "code",
   "execution_count": 4,
   "metadata": {},
   "outputs": [],
   "source": [
    "import keras\n",
    "from keras.models import Sequential\n",
    "from keras.layers import Normalization\n",
    "from keras.layers import Conv2D, MaxPooling2D\n",
    "from keras.layers import Activation, Dropout, Flatten, Dense\n",
    "\n",
    "\n",
    "\n",
    "def make_model():\n",
    "    model = Sequential()\n",
    "\n",
    "    #model.add(Normalization())\n",
    "    \n",
    "    model.add(Conv2D(64, (3, 3), padding='same', activation='relu'))\n",
    "    model.add(Conv2D(64, (3, 3), padding='same', activation='relu'))\n",
    "    model.add(MaxPooling2D(strides=(2,2)))\n",
    "\n",
    "    model.add(Conv2D(128, (3, 3), padding='same', activation='relu'))\n",
    "    model.add(Conv2D(128, (3, 3), padding='same', activation='relu'))\n",
    "    model.add(MaxPooling2D(strides=(2,2)))\n",
    "\n",
    "    model.add(Conv2D(256, (3, 3), padding='same', activation='relu'))\n",
    "    model.add(Conv2D(256, (3, 3), padding='same', activation='relu'))\n",
    "    model.add(Conv2D(256, (3, 3), padding='same', activation='relu'))\n",
    "    model.add(Conv2D(256, (3, 3), padding='same', activation='relu'))\n",
    "    model.add(MaxPooling2D(strides=(2,2)))\n",
    "\n",
    "    model.add(Conv2D(512, (3, 3), padding='same', activation='relu'))\n",
    "    model.add(Conv2D(512, (3, 3), padding='same', activation='relu'))\n",
    "    model.add(Conv2D(512, (3, 3), padding='same', activation='relu'))\n",
    "    model.add(Conv2D(512, (3, 3), padding='same', activation='relu'))\n",
    "    model.add(MaxPooling2D(strides=(2,2)))\n",
    "\n",
    "    model.add(Conv2D(512, (3, 3), padding='same', activation='relu'))\n",
    "    model.add(Conv2D(512, (3, 3), padding='same', activation='relu'))\n",
    "    model.add(Conv2D(512, (3, 3), padding='same', activation='relu'))\n",
    "    model.add(Conv2D(512, (3, 3), padding='same', activation='relu'))\n",
    "    model.add(SpatialPyramidPooling([1,2,4]))\n",
    "    #model.add(MaxPooling2D(strides=(2,2)))\n",
    "\n",
    "    model.add(Flatten())\n",
    "    model.add(Dense(units=4096, activation='relu', ))\n",
    "    model.add(Dense(units=4096, activation='relu', input_shape=(None,4096) ))\n",
    "    model.add(Dense(units=NUM_OF_LABELS, activation='softmax', input_shape=(None,4096) ))\n",
    "    \n",
    "    return model"
   ]
  },
  {
   "cell_type": "code",
   "execution_count": 5,
   "metadata": {},
   "outputs": [],
   "source": [
    "def compile_model(model):\n",
    "    model.compile(loss='categorical_crossentropy',\n",
    "                optimizer='adam',\n",
    "                metrics=['accuracy']\n",
    "                )"
   ]
  },
  {
   "cell_type": "markdown",
   "metadata": {},
   "source": [
    "### Model Training"
   ]
  },
  {
   "cell_type": "code",
   "execution_count": 6,
   "metadata": {},
   "outputs": [
    {
     "ename": "ValueError",
     "evalue": "Data is expected to be in format `x`, `(x,)`, `(x, y)`, or `(x, y, sample_weight)`, found: ([<PIL.JpegImagePlugin.JpegImageFile image mode=RGB size=340x393 at 0x17D9F835AF0>, 7], [<PIL.JpegImagePlugin.JpegImageFile image mode=RGB size=340x255 at 0x17D9F835B50>, 7], [<PIL.JpegImagePlugin.JpegImageFile image mode=RGB size=340x457 at 0x17D9F835BB0>, 7], [<PIL.JpegImagePlugin.JpegImageFile image mode=RGB size=340x255 at 0x17D9F835C10>, 7], [<PIL.JpegImagePlugin.JpegImageFile image mode=RGB size=340x255 at 0x17D9F835C70>, 7], [<PIL.JpegImagePlugin.JpegImageFile image mode=RGB size=340x340 at 0x17D9F835CD0>, 7], [<PIL.JpegImagePlugin.JpegImageFile image mode=RGB size=340x535 at 0x17D9F835D30>, 7], [<PIL.JpegImagePlugin.JpegImageFile image mode=RGB size=340x453 at 0x17D9F835D90>, 7], [<PIL.JpegImagePlugin.JpegImageFile image mode=RGB size=340x264 at 0x17D9F835DF0>, 7], [<PIL.JpegImagePlugin.JpegImageFile image mode=RGB size=340x255 at 0x17D9F835E50>, 7], [<PIL.JpegImagePlugin.JpegImageFile image mode=RGB size=340x519 at 0x17D9F835EB0>, 7], [<PIL.Image.Image image mode=RGB size=340x600 at 0x17D9F835FD0>, 7], [<PIL.JpegImagePlugin.JpegImageFile image mode=RGB size=340x453 at 0x17D9F835F10>, 7], [<PIL.JpegImagePlugin.JpegImageFile image mode=RGB size=340x456 at 0x17D9F835F70>, 7], [<PIL.Image.Image image mode=RGB size=340x600 at 0x17D9F85E130>, 7], [<PIL.JpegImagePlugin.JpegImageFile image mode=RGB size=340x453 at 0x17DFE9BFE80>, 7], [<PIL.JpegImagePlugin.JpegImageFile image mode=RGB size=340x453 at 0x17D9F85E0A0>, 7], [<PIL.JpegImagePlugin.JpegImageFile image mode=RGB size=340x358 at 0x17D9F85E100>, 7], [<PIL.JpegImagePlugin.JpegImageFile image mode=RGB size=340x340 at 0x17D9F85E190>, 7], [<PIL.JpegImagePlugin.JpegImageFile image mode=RGB size=340x453 at 0x17D9F85E1F0>, 7], [<PIL.JpegImagePlugin.JpegImageFile image mode=RGB size=340x255 at 0x17D9F85E250>, 7], [<PIL.JpegImagePlugin.JpegImageFile image mode=RGB size=340x453 at 0x17D9F85E2B0>, 7], [<PIL.JpegImagePlugin.JpegImageFile image mode=RGB size=340x191 at 0x17D9F85E310>, 7], [<PIL.JpegImagePlugin.JpegImageFile image mode=RGB size=340x556 at 0x17D9F85E370>, 7], [<PIL.JpegImagePlugin.JpegImageFile image mode=RGB size=340x340 at 0x17D9F85E3D0>, 7], [<PIL.JpegImagePlugin.JpegImageFile image mode=RGB size=340x340 at 0x17D9F85E430>, 7], [<PIL.JpegImagePlugin.JpegImageFile image mode=RGB size=340x192 at 0x17D9F85E490>, 7], [<PIL.JpegImagePlugin.JpegImageFile image mode=RGB size=340x340 at 0x17D9F85E4F0>, 7], [<PIL.JpegImagePlugin.JpegImageFile image mode=RGB size=340x340 at 0x17D9F85E550>, 7], [<PIL.JpegImagePlugin.JpegImageFile image mode=RGB size=340x459 at 0x17D9F85E5B0>, 7], [<PIL.JpegImagePlugin.JpegImageFile image mode=RGB size=340x453 at 0x17D9F85E610>, 7], [<PIL.JpegImagePlugin.JpegImageFile image mode=RGB size=340x340 at 0x17D9F85E670>, 7], [<PIL.JpegImagePlugin.JpegImageFile image mode=RGB size=340x340 at 0x17D9F85E6D0>, 7], [<PIL.JpegImagePlugin.JpegImageFile image mode=RGB size=340x453 at 0x17D9F85E730>, 7], [<PIL.JpegImagePlugin.JpegImageFile image mode=RGB size=340x453 at 0x17D9F85E790>, 7], [<PIL.JpegImagePlugin.JpegImageFile image mode=RGB size=340x453 at 0x17D9F85E7F0>, 7], [<PIL.JpegImagePlugin.JpegImageFile image mode=RGB size=340x508 at 0x17D9F85E850>, 7], [<PIL.JpegImagePlugin.JpegImageFile image mode=RGB size=340x453 at 0x17D9F85E8B0>, 7], [<PIL.JpegImagePlugin.JpegImageFile image mode=RGB size=340x454 at 0x17D9F85E910>, 7], [<PIL.JpegImagePlugin.JpegImageFile image mode=RGB size=340x227 at 0x17D9F85E970>, 7], [<PIL.JpegImagePlugin.JpegImageFile image mode=RGB size=340x395 at 0x17D9F85E9D0>, 8], [<PIL.JpegImagePlugin.JpegImageFile image mode=RGB size=340x255 at 0x17D9F85EA30>, 8], [<PIL.JpegImagePlugin.JpegImageFile image mode=RGB size=340x453 at 0x17D9F85EA90>, 8], [<PIL.JpegImagePlugin.JpegImageFile image mode=RGB size=340x325 at 0x17D9F85EAF0>, 8], [<PIL.JpegImagePlugin.JpegImageFile image mode=RGB size=340x319 at 0x17D9F85EB50>, 8], [<PIL.JpegImagePlugin.JpegImageFile image mode=RGB size=340x453 at 0x17D9F85EBB0>, 8], [<PIL.JpegImagePlugin.JpegImageFile image mode=RGB size=340x340 at 0x17D9F85EC10>, 8], [<PIL.JpegImagePlugin.JpegImageFile image mode=RGB size=340x165 at 0x17D9F85EC70>, 8], [<PIL.JpegImagePlugin.JpegImageFile image mode=RGB size=340x165 at 0x17D9F85ECD0>, 8], [<PIL.JpegImagePlugin.JpegImageFile image mode=RGB size=340x165 at 0x17D9F85ED30>, 8], [<PIL.JpegImagePlugin.JpegImageFile image mode=RGB size=340x165 at 0x17D9F85ED90>, 8], [<PIL.JpegImagePlugin.JpegImageFile image mode=RGB size=340x453 at 0x17D9F85EDF0>, 8], [<PIL.JpegImagePlugin.JpegImageFile image mode=RGB size=340x479 at 0x17D9F85EE50>, 8], [<PIL.JpegImagePlugin.JpegImageFile image mode=RGB size=340x255 at 0x17D9F85EEB0>, 8], [<PIL.JpegImagePlugin.JpegImageFile image mode=RGB size=340x453 at 0x17D9F85EF10>, 8], [<PIL.JpegImagePlugin.JpegImageFile image mode=RGB size=340x453 at 0x17D9F85EF70>, 8], [<PIL.JpegImagePlugin.JpegImageFile image mode=RGB size=340x536 at 0x17D9F85EFD0>, 8], [<PIL.JpegImagePlugin.JpegImageFile image mode=RGB size=340x340 at 0x17D9F887040>, 8], [<PIL.JpegImagePlugin.JpegImageFile image mode=RGB size=340x453 at 0x17D9F8870D0>, 8], [<PIL.JpegImagePlugin.JpegImageFile image mode=RGB size=340x453 at 0x17D9F887130>, 8], [<PIL.JpegImagePlugin.JpegImageFile image mode=RGB size=340x165 at 0x17D9F887190>, 8], [<PIL.JpegImagePlugin.JpegImageFile image mode=RGB size=340x165 at 0x17D9F8871F0>, 8], [<PIL.JpegImagePlugin.JpegImageFile image mode=RGB size=340x453 at 0x17D9F887250>, 8], [<PIL.JpegImagePlugin.JpegImageFile image mode=RGB size=340x358 at 0x17D9F8872B0>, 8], [<PIL.JpegImagePlugin.JpegImageFile image mode=RGB size=340x453 at 0x17D9F887310>, 8], [<PIL.JpegImagePlugin.JpegImageFile image mode=RGB size=340x193 at 0x17D9F887370>, 8], [<PIL.JpegImagePlugin.JpegImageFile image mode=RGB size=340x453 at 0x17D9F8873D0>, 8], [<PIL.JpegImagePlugin.JpegImageFile image mode=RGB size=340x198 at 0x17D9F887430>, 8], [<PIL.JpegImagePlugin.JpegImageFile image mode=RGB size=340x453 at 0x17D9F887490>, 8], [<PIL.JpegImagePlugin.JpegImageFile image mode=RGB size=340x453 at 0x17D9F8874F0>, 8], [<PIL.JpegImagePlugin.JpegImageFile image mode=RGB size=340x453 at 0x17D9F887550>, 8], [<PIL.JpegImagePlugin.JpegImageFile image mode=RGB size=340x453 at 0x17D9F8875B0>, 8], [<PIL.Image.Image image mode=RGB size=340x600 at 0x17D9F8876A0>, 8], [<PIL.Image.Image image mode=RGB size=340x600 at 0x17D9F887700>, 8], [<PIL.Image.Image image mode=RGB size=340x600 at 0x17D9F887760>, 8], [<PIL.Image.Image image mode=RGB size=340x600 at 0x17D9F887790>, 8], [<PIL.JpegImagePlugin.JpegImageFile image mode=RGB size=340x232 at 0x17D9F887610>, 8], [<PIL.JpegImagePlugin.JpegImageFile image mode=RGB size=340x337 at 0x17D9F887670>, 8], [<PIL.JpegImagePlugin.JpegImageFile image mode=RGB size=340x224 at 0x17D9F8876D0>, 8], [<PIL.JpegImagePlugin.JpegImageFile image mode=RGB size=340x372 at 0x17D9F8877F0>, 8], [<PIL.JpegImagePlugin.JpegImageFile image mode=RGB size=340x453 at 0x17D9F887850>, 8], [<PIL.JpegImagePlugin.JpegImageFile image mode=RGB size=340x453 at 0x17D9F8878B0>, 8], [<PIL.JpegImagePlugin.JpegImageFile image mode=RGB size=340x400 at 0x17D9F887910>, 8], [<PIL.JpegImagePlugin.JpegImageFile image mode=RGB size=340x453 at 0x17D9F887970>, 8], [<PIL.JpegImagePlugin.JpegImageFile image mode=RGB size=340x570 at 0x17D9F8879D0>, 8], [<PIL.JpegImagePlugin.JpegImageFile image mode=RGB size=340x411 at 0x17D9F887A30>, 8], [<PIL.JpegImagePlugin.JpegImageFile image mode=RGB size=340x255 at 0x17D9F887A90>, 8], [<PIL.JpegImagePlugin.JpegImageFile image mode=RGB size=340x255 at 0x17D9F887AF0>, 8], [<PIL.JpegImagePlugin.JpegImageFile image mode=RGB size=340x453 at 0x17D9F887B50>, 8], [<PIL.JpegImagePlugin.JpegImageFile image mode=RGB size=340x453 at 0x17D9F887BB0>, 8])",
     "output_type": "error",
     "traceback": [
      "\u001b[1;31m---------------------------------------------------------------------------\u001b[0m",
      "\u001b[1;31mValueError\u001b[0m                                Traceback (most recent call last)",
      "Cell \u001b[1;32mIn [6], line 14\u001b[0m\n\u001b[0;32m      4\u001b[0m compile_model(model)\n\u001b[0;32m      6\u001b[0m callbacks \u001b[39m=\u001b[39m [\n\u001b[0;32m      7\u001b[0m     keras\u001b[39m.\u001b[39mcallbacks\u001b[39m.\u001b[39mModelCheckpoint(\n\u001b[0;32m      8\u001b[0m         filepath\u001b[39m=\u001b[39m\u001b[39m\"\u001b[39m\u001b[39mVGG19\u001b[39m\u001b[39m\"\u001b[39m,\n\u001b[1;32m   (...)\u001b[0m\n\u001b[0;32m     11\u001b[0m     )\n\u001b[0;32m     12\u001b[0m ]\n\u001b[1;32m---> 14\u001b[0m history \u001b[39m=\u001b[39m model\u001b[39m.\u001b[39;49mfit(\n\u001b[0;32m     15\u001b[0m     x \u001b[39m=\u001b[39;49m train_dataset,\n\u001b[0;32m     16\u001b[0m     epochs\u001b[39m=\u001b[39;49m\u001b[39m100\u001b[39;49m,\n\u001b[0;32m     17\u001b[0m     validation_data\u001b[39m=\u001b[39;49mvalid_dataset,\n\u001b[0;32m     18\u001b[0m     callbacks\u001b[39m=\u001b[39;49mcallbacks,\n\u001b[0;32m     19\u001b[0m     use_multiprocessing\u001b[39m=\u001b[39;49m\u001b[39mTrue\u001b[39;49;00m,\n\u001b[0;32m     20\u001b[0m     )\n\u001b[0;32m     21\u001b[0m model\u001b[39m.\u001b[39msummary()\n",
      "File \u001b[1;32mc:\\Users\\Programming\\anaconda3\\envs\\c_project\\lib\\site-packages\\keras\\utils\\traceback_utils.py:70\u001b[0m, in \u001b[0;36mfilter_traceback.<locals>.error_handler\u001b[1;34m(*args, **kwargs)\u001b[0m\n\u001b[0;32m     67\u001b[0m     filtered_tb \u001b[39m=\u001b[39m _process_traceback_frames(e\u001b[39m.\u001b[39m__traceback__)\n\u001b[0;32m     68\u001b[0m     \u001b[39m# To get the full stack trace, call:\u001b[39;00m\n\u001b[0;32m     69\u001b[0m     \u001b[39m# `tf.debugging.disable_traceback_filtering()`\u001b[39;00m\n\u001b[1;32m---> 70\u001b[0m     \u001b[39mraise\u001b[39;00m e\u001b[39m.\u001b[39mwith_traceback(filtered_tb) \u001b[39mfrom\u001b[39;00m \u001b[39mNone\u001b[39m\n\u001b[0;32m     71\u001b[0m \u001b[39mfinally\u001b[39;00m:\n\u001b[0;32m     72\u001b[0m     \u001b[39mdel\u001b[39;00m filtered_tb\n",
      "File \u001b[1;32mc:\\Users\\Programming\\anaconda3\\envs\\c_project\\lib\\site-packages\\keras\\engine\\data_adapter.py:1774\u001b[0m, in \u001b[0;36munpack_x_y_sample_weight\u001b[1;34m(data)\u001b[0m\n\u001b[0;32m   1769\u001b[0m \u001b[39melse\u001b[39;00m:\n\u001b[0;32m   1770\u001b[0m     error_msg \u001b[39m=\u001b[39m (\n\u001b[0;32m   1771\u001b[0m         \u001b[39m\"\u001b[39m\u001b[39mData is expected to be in format `x`, `(x,)`, `(x, y)`, \u001b[39m\u001b[39m\"\u001b[39m\n\u001b[0;32m   1772\u001b[0m         \u001b[39m\"\u001b[39m\u001b[39mor `(x, y, sample_weight)`, found: \u001b[39m\u001b[39m{}\u001b[39;00m\u001b[39m\"\u001b[39m\n\u001b[0;32m   1773\u001b[0m     )\u001b[39m.\u001b[39mformat(data)\n\u001b[1;32m-> 1774\u001b[0m     \u001b[39mraise\u001b[39;00m \u001b[39mValueError\u001b[39;00m(error_msg)\n",
      "\u001b[1;31mValueError\u001b[0m: Data is expected to be in format `x`, `(x,)`, `(x, y)`, or `(x, y, sample_weight)`, found: ([<PIL.JpegImagePlugin.JpegImageFile image mode=RGB size=340x393 at 0x17D9F835AF0>, 7], [<PIL.JpegImagePlugin.JpegImageFile image mode=RGB size=340x255 at 0x17D9F835B50>, 7], [<PIL.JpegImagePlugin.JpegImageFile image mode=RGB size=340x457 at 0x17D9F835BB0>, 7], [<PIL.JpegImagePlugin.JpegImageFile image mode=RGB size=340x255 at 0x17D9F835C10>, 7], [<PIL.JpegImagePlugin.JpegImageFile image mode=RGB size=340x255 at 0x17D9F835C70>, 7], [<PIL.JpegImagePlugin.JpegImageFile image mode=RGB size=340x340 at 0x17D9F835CD0>, 7], [<PIL.JpegImagePlugin.JpegImageFile image mode=RGB size=340x535 at 0x17D9F835D30>, 7], [<PIL.JpegImagePlugin.JpegImageFile image mode=RGB size=340x453 at 0x17D9F835D90>, 7], [<PIL.JpegImagePlugin.JpegImageFile image mode=RGB size=340x264 at 0x17D9F835DF0>, 7], [<PIL.JpegImagePlugin.JpegImageFile image mode=RGB size=340x255 at 0x17D9F835E50>, 7], [<PIL.JpegImagePlugin.JpegImageFile image mode=RGB size=340x519 at 0x17D9F835EB0>, 7], [<PIL.Image.Image image mode=RGB size=340x600 at 0x17D9F835FD0>, 7], [<PIL.JpegImagePlugin.JpegImageFile image mode=RGB size=340x453 at 0x17D9F835F10>, 7], [<PIL.JpegImagePlugin.JpegImageFile image mode=RGB size=340x456 at 0x17D9F835F70>, 7], [<PIL.Image.Image image mode=RGB size=340x600 at 0x17D9F85E130>, 7], [<PIL.JpegImagePlugin.JpegImageFile image mode=RGB size=340x453 at 0x17DFE9BFE80>, 7], [<PIL.JpegImagePlugin.JpegImageFile image mode=RGB size=340x453 at 0x17D9F85E0A0>, 7], [<PIL.JpegImagePlugin.JpegImageFile image mode=RGB size=340x358 at 0x17D9F85E100>, 7], [<PIL.JpegImagePlugin.JpegImageFile image mode=RGB size=340x340 at 0x17D9F85E190>, 7], [<PIL.JpegImagePlugin.JpegImageFile image mode=RGB size=340x453 at 0x17D9F85E1F0>, 7], [<PIL.JpegImagePlugin.JpegImageFile image mode=RGB size=340x255 at 0x17D9F85E250>, 7], [<PIL.JpegImagePlugin.JpegImageFile image mode=RGB size=340x453 at 0x17D9F85E2B0>, 7], [<PIL.JpegImagePlugin.JpegImageFile image mode=RGB size=340x191 at 0x17D9F85E310>, 7], [<PIL.JpegImagePlugin.JpegImageFile image mode=RGB size=340x556 at 0x17D9F85E370>, 7], [<PIL.JpegImagePlugin.JpegImageFile image mode=RGB size=340x340 at 0x17D9F85E3D0>, 7], [<PIL.JpegImagePlugin.JpegImageFile image mode=RGB size=340x340 at 0x17D9F85E430>, 7], [<PIL.JpegImagePlugin.JpegImageFile image mode=RGB size=340x192 at 0x17D9F85E490>, 7], [<PIL.JpegImagePlugin.JpegImageFile image mode=RGB size=340x340 at 0x17D9F85E4F0>, 7], [<PIL.JpegImagePlugin.JpegImageFile image mode=RGB size=340x340 at 0x17D9F85E550>, 7], [<PIL.JpegImagePlugin.JpegImageFile image mode=RGB size=340x459 at 0x17D9F85E5B0>, 7], [<PIL.JpegImagePlugin.JpegImageFile image mode=RGB size=340x453 at 0x17D9F85E610>, 7], [<PIL.JpegImagePlugin.JpegImageFile image mode=RGB size=340x340 at 0x17D9F85E670>, 7], [<PIL.JpegImagePlugin.JpegImageFile image mode=RGB size=340x340 at 0x17D9F85E6D0>, 7], [<PIL.JpegImagePlugin.JpegImageFile image mode=RGB size=340x453 at 0x17D9F85E730>, 7], [<PIL.JpegImagePlugin.JpegImageFile image mode=RGB size=340x453 at 0x17D9F85E790>, 7], [<PIL.JpegImagePlugin.JpegImageFile image mode=RGB size=340x453 at 0x17D9F85E7F0>, 7], [<PIL.JpegImagePlugin.JpegImageFile image mode=RGB size=340x508 at 0x17D9F85E850>, 7], [<PIL.JpegImagePlugin.JpegImageFile image mode=RGB size=340x453 at 0x17D9F85E8B0>, 7], [<PIL.JpegImagePlugin.JpegImageFile image mode=RGB size=340x454 at 0x17D9F85E910>, 7], [<PIL.JpegImagePlugin.JpegImageFile image mode=RGB size=340x227 at 0x17D9F85E970>, 7], [<PIL.JpegImagePlugin.JpegImageFile image mode=RGB size=340x395 at 0x17D9F85E9D0>, 8], [<PIL.JpegImagePlugin.JpegImageFile image mode=RGB size=340x255 at 0x17D9F85EA30>, 8], [<PIL.JpegImagePlugin.JpegImageFile image mode=RGB size=340x453 at 0x17D9F85EA90>, 8], [<PIL.JpegImagePlugin.JpegImageFile image mode=RGB size=340x325 at 0x17D9F85EAF0>, 8], [<PIL.JpegImagePlugin.JpegImageFile image mode=RGB size=340x319 at 0x17D9F85EB50>, 8], [<PIL.JpegImagePlugin.JpegImageFile image mode=RGB size=340x453 at 0x17D9F85EBB0>, 8], [<PIL.JpegImagePlugin.JpegImageFile image mode=RGB size=340x340 at 0x17D9F85EC10>, 8], [<PIL.JpegImagePlugin.JpegImageFile image mode=RGB size=340x165 at 0x17D9F85EC70>, 8], [<PIL.JpegImagePlugin.JpegImageFile image mode=RGB size=340x165 at 0x17D9F85ECD0>, 8], [<PIL.JpegImagePlugin.JpegImageFile image mode=RGB size=340x165 at 0x17D9F85ED30>, 8], [<PIL.JpegImagePlugin.JpegImageFile image mode=RGB size=340x165 at 0x17D9F85ED90>, 8], [<PIL.JpegImagePlugin.JpegImageFile image mode=RGB size=340x453 at 0x17D9F85EDF0>, 8], [<PIL.JpegImagePlugin.JpegImageFile image mode=RGB size=340x479 at 0x17D9F85EE50>, 8], [<PIL.JpegImagePlugin.JpegImageFile image mode=RGB size=340x255 at 0x17D9F85EEB0>, 8], [<PIL.JpegImagePlugin.JpegImageFile image mode=RGB size=340x453 at 0x17D9F85EF10>, 8], [<PIL.JpegImagePlugin.JpegImageFile image mode=RGB size=340x453 at 0x17D9F85EF70>, 8], [<PIL.JpegImagePlugin.JpegImageFile image mode=RGB size=340x536 at 0x17D9F85EFD0>, 8], [<PIL.JpegImagePlugin.JpegImageFile image mode=RGB size=340x340 at 0x17D9F887040>, 8], [<PIL.JpegImagePlugin.JpegImageFile image mode=RGB size=340x453 at 0x17D9F8870D0>, 8], [<PIL.JpegImagePlugin.JpegImageFile image mode=RGB size=340x453 at 0x17D9F887130>, 8], [<PIL.JpegImagePlugin.JpegImageFile image mode=RGB size=340x165 at 0x17D9F887190>, 8], [<PIL.JpegImagePlugin.JpegImageFile image mode=RGB size=340x165 at 0x17D9F8871F0>, 8], [<PIL.JpegImagePlugin.JpegImageFile image mode=RGB size=340x453 at 0x17D9F887250>, 8], [<PIL.JpegImagePlugin.JpegImageFile image mode=RGB size=340x358 at 0x17D9F8872B0>, 8], [<PIL.JpegImagePlugin.JpegImageFile image mode=RGB size=340x453 at 0x17D9F887310>, 8], [<PIL.JpegImagePlugin.JpegImageFile image mode=RGB size=340x193 at 0x17D9F887370>, 8], [<PIL.JpegImagePlugin.JpegImageFile image mode=RGB size=340x453 at 0x17D9F8873D0>, 8], [<PIL.JpegImagePlugin.JpegImageFile image mode=RGB size=340x198 at 0x17D9F887430>, 8], [<PIL.JpegImagePlugin.JpegImageFile image mode=RGB size=340x453 at 0x17D9F887490>, 8], [<PIL.JpegImagePlugin.JpegImageFile image mode=RGB size=340x453 at 0x17D9F8874F0>, 8], [<PIL.JpegImagePlugin.JpegImageFile image mode=RGB size=340x453 at 0x17D9F887550>, 8], [<PIL.JpegImagePlugin.JpegImageFile image mode=RGB size=340x453 at 0x17D9F8875B0>, 8], [<PIL.Image.Image image mode=RGB size=340x600 at 0x17D9F8876A0>, 8], [<PIL.Image.Image image mode=RGB size=340x600 at 0x17D9F887700>, 8], [<PIL.Image.Image image mode=RGB size=340x600 at 0x17D9F887760>, 8], [<PIL.Image.Image image mode=RGB size=340x600 at 0x17D9F887790>, 8], [<PIL.JpegImagePlugin.JpegImageFile image mode=RGB size=340x232 at 0x17D9F887610>, 8], [<PIL.JpegImagePlugin.JpegImageFile image mode=RGB size=340x337 at 0x17D9F887670>, 8], [<PIL.JpegImagePlugin.JpegImageFile image mode=RGB size=340x224 at 0x17D9F8876D0>, 8], [<PIL.JpegImagePlugin.JpegImageFile image mode=RGB size=340x372 at 0x17D9F8877F0>, 8], [<PIL.JpegImagePlugin.JpegImageFile image mode=RGB size=340x453 at 0x17D9F887850>, 8], [<PIL.JpegImagePlugin.JpegImageFile image mode=RGB size=340x453 at 0x17D9F8878B0>, 8], [<PIL.JpegImagePlugin.JpegImageFile image mode=RGB size=340x400 at 0x17D9F887910>, 8], [<PIL.JpegImagePlugin.JpegImageFile image mode=RGB size=340x453 at 0x17D9F887970>, 8], [<PIL.JpegImagePlugin.JpegImageFile image mode=RGB size=340x570 at 0x17D9F8879D0>, 8], [<PIL.JpegImagePlugin.JpegImageFile image mode=RGB size=340x411 at 0x17D9F887A30>, 8], [<PIL.JpegImagePlugin.JpegImageFile image mode=RGB size=340x255 at 0x17D9F887A90>, 8], [<PIL.JpegImagePlugin.JpegImageFile image mode=RGB size=340x255 at 0x17D9F887AF0>, 8], [<PIL.JpegImagePlugin.JpegImageFile image mode=RGB size=340x453 at 0x17D9F887B50>, 8], [<PIL.JpegImagePlugin.JpegImageFile image mode=RGB size=340x453 at 0x17D9F887BB0>, 8])"
     ]
    }
   ],
   "source": [
    "import numpy as np\n",
    "\n",
    "model = make_model()\n",
    "compile_model(model)\n",
    "\n",
    "callbacks = [\n",
    "    keras.callbacks.ModelCheckpoint(\n",
    "        filepath=\"VGG19\",\n",
    "        save_best_only=True,\n",
    "        monitor=\"val_loss\"\n",
    "    )\n",
    "]\n",
    "\n",
    "history = model.fit(\n",
    "    x = train_dataset,\n",
    "    epochs=100,\n",
    "    validation_data=valid_dataset,\n",
    "    callbacks=callbacks,\n",
    "    use_multiprocessing=True,\n",
    "    )\n",
    "model.summary()"
   ]
  },
  {
   "cell_type": "markdown",
   "metadata": {},
   "source": [
    "+ WARNING:absl:Found untraced functions such as ... while saving. These functions will not be directly callable after loading.\n",
    ": ModelCheckpoint를 사용하는 과정에서 발견되는 오류. tf.saved_model.save 대신 model.save를 사용할 것을 권장하기 위해 출력시키는 경고라는 의견이 있음.\n",
    "(https://github.com/tensorflow/tensorflow/issues/47479#issuecomment-815314034)"
   ]
  },
  {
   "cell_type": "markdown",
   "metadata": {},
   "source": [
    "### Prediction Accuracy"
   ]
  },
  {
   "cell_type": "code",
   "execution_count": null,
   "metadata": {},
   "outputs": [
    {
     "name": "stdout",
     "output_type": "stream",
     "text": [
      "15/15 [==============================] - 3s 181ms/step - loss: 2.1972 - accuracy: 0.1156\n",
      "테스트 정확도: 0.116\n"
     ]
    }
   ],
   "source": [
    "model = keras.models.load_model(\"VGG19\")\n",
    "print(f\"테스트 정확도: {model.evaluate(test_dataset)[1]:.3f}\")"
   ]
  },
  {
   "cell_type": "code",
   "execution_count": null,
   "metadata": {},
   "outputs": [
    {
     "name": "stdout",
     "output_type": "stream",
     "text": [
      "15/15 [==============================] - 3s 142ms/step\n",
      "15/15 [==============================] - 2s 144ms/step - loss: 2.1972 - accuracy: 0.1156\n",
      "테스트 정확도: 0.11555555462837219\n",
      "예측 라벨: [6 8 6 8 6 8 6 8 6 6 6 8 8 8 8 6 6 8 8 8 8 6 8 8 8 8 8 8 6 8 6 8 8 8 8 6 6\n",
      " 8 8 8 8 8 8 6 8 8 8 8 6 6 8 8 8 6 8 8 6 8 8 8 8 8 8 8 6 8 8 6 8 6 6 8 8 8\n",
      " 8 8 8 6 8 8 8 8 6 6 8 8 6 8 8 8 8 6 6 8 6 8 8 8 8 8 8 8 6 8 8 8 8 8 8 6 6\n",
      " 8 6 6 8 8 6 8 8 8 8 6 8 8 8 8 6 8 8 8 8 8 8 6 6 6 6 8 8 8 8 8 8 6 8 6 8 8\n",
      " 8 8 8 6 6 6 8 8 8 8 8 6 6 8 8 6 8 6 8 6 8 8 8 8 8 8 6 8 8 8 8 6 8 8 8 8 8\n",
      " 6 8 6 8 6 8 6 8 8 8 8 8 8 8 6 6 8 8 8 8 6 8 8 8 8 6 8 6 8 8 8 8 8 6 8 6 6\n",
      " 6 8 8 8 6 6 6 8 8 6 6 8 8 8 8 8 8 6 8 8 8 6 6 6 8 8 8 6 6 8 6 8 8 6 8 6 8\n",
      " 6 8 6 8 6 8 8 8 8 8 8 8 8 8 6 8 6 8 8 6 8 6 8 8 8 8 6 8 8 6 8 8 8 8 8 6 8\n",
      " 6 8 8 8 8 8 8 6 8 8 6 8 6 8 6 8 6 6 8 8 8 8 8 8 8 8 8 8 6 8 8 8 6 6 8 8 8\n",
      " 8 8 8 8 8 6 8 8 6 8 6 8 8 8 8 8 8 8 6 8 6 8 8 6 8 8 8 8 6 8 8 6 6 6 6 6 6\n",
      " 6 6 6 8 6 8 8 8 8 6 6 8 6 6 6 6 6 8 6 6 8 8 8 8 8 8 6 8 6 8 8 8 8 8 8 8 8\n",
      " 8 8 6 8 6 8 8 6 6 8 8 8 6 8 8 8 8 8 8 8 8 8 8 8 6 6 6 8 6 8 8 6 6 8 8 8 8\n",
      " 8 8 6 8 8 8]\n",
      "15/15 [==============================] - 2s 142ms/step\n",
      "예측 정도: [[0.11222447 0.11031617 0.10945442 ... 0.11440634 0.10821518 0.1144456 ]\n",
      " [0.1122049  0.1104444  0.10987205 ... 0.11375342 0.10880906 0.11375288]\n",
      " [0.11222868 0.11018997 0.10898    ... 0.11488562 0.10759962 0.11495508]\n",
      " ...\n",
      " [0.11222729 0.11028314 0.10931073 ... 0.11456582 0.10801302 0.11462808]\n",
      " [0.11228258 0.11021734 0.10936578 ... 0.11477389 0.10789374 0.11482041]\n",
      " [0.11224973 0.11007147 0.10869782 ... 0.1154443  0.10713837 0.11561371]]\n",
      "450 data are predicted.\n"
     ]
    }
   ],
   "source": [
    "y_predict = model.predict(test_dataset)\n",
    "predicted_labels = y_predict.argmax(axis=-1)\n",
    "print(f\"테스트 정확도: {model.evaluate(test_dataset)[1]}\")\n",
    "print(f\"예측 라벨: {predicted_labels}\")\n",
    "print(f\"예측 정도: {model.predict(test_dataset)}\")\n",
    "print(f\"{len(predicted_labels)} data are predicted.\")"
   ]
  },
  {
   "cell_type": "code",
   "execution_count": null,
   "metadata": {},
   "outputs": [],
   "source": []
  }
 ],
 "metadata": {
  "kernelspec": {
   "display_name": "Python 3.9.13 ('c_project')",
   "language": "python",
   "name": "python3"
  },
  "language_info": {
   "codemirror_mode": {
    "name": "ipython",
    "version": 3
   },
   "file_extension": ".py",
   "mimetype": "text/x-python",
   "name": "python",
   "nbconvert_exporter": "python",
   "pygments_lexer": "ipython3",
   "version": "3.9.13"
  },
  "orig_nbformat": 4,
  "vscode": {
   "interpreter": {
    "hash": "ad49a3e310a1b80e3d37ec823c88e1d3b8d0e81fa400ebb92324267753db291b"
   }
  }
 },
 "nbformat": 4,
 "nbformat_minor": 2
}
